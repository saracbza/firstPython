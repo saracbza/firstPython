{
 "cells": [
  {
   "cell_type": "markdown",
   "metadata": {},
   "source": [
    "# Python Insights - Analisando Dados com Python\n",
    "\n",
    "### Case - Cancelamento de Clientes\n",
    "\n",
    "Você foi contratado por uma empresa com mais de 800 mil clientes para um projeto de Dados. Recentemente a empresa percebeu que da sua base total de clientes, a maioria são clientes inativos, ou seja, que já cancelaram o serviço.\n",
    "\n",
    "Precisando melhorar seus resultados ela quer conseguir entender os principais motivos desses cancelamentos e quais as ações mais eficientes para reduzir esse número.\n",
    "\n",
    "Base de dados e arquivos: https://drive.google.com/drive/folders/1uDesZePdkhiraJmiyeZ-w5tfc8XsNYFZ?usp=drive_link"
   ]
  },
  {
   "cell_type": "code",
   "execution_count": null,
   "metadata": {},
   "outputs": [],
   "source": [
    "import pandas as pd\n",
    "\n",
    "# Importando base de dados\n",
    "tab = pd.read_csv(\"cancelamentos_sample.csv\")\n",
    "display(tab) # mostrando a tabela original\n",
    "\n",
    "# Deletando coluna inútil para análise\n",
    "tab = tab.drop(columns=\"CustomerID\")\n",
    "display(tab) # mostrando a tabela sem os Ids"
   ]
  },
  {
   "cell_type": "code",
   "execution_count": null,
   "metadata": {},
   "outputs": [],
   "source": [
    "# Resumo das informações da base de dados\n",
    "display(tab.info()) # informações dos dados sem drop\n",
    "\n",
    "# Tratar dados vazios\n",
    "tab = tab.dropna() # se a linha possui um item vazio, ela é dropada (ja que poucas linhas são null)\n",
    "display(tab.info())\n"
   ]
  },
  {
   "cell_type": "code",
   "execution_count": null,
   "metadata": {},
   "outputs": [],
   "source": [
    "# Análise Inicial - percentual e quantidade de clientes cancelaram\n",
    "display(tab[\"cancelou\"].value_counts()) # contagem de qnts vezes cada valor aparece\n",
    "display(tab[\"cancelou\"].value_counts(normalize=True)) # porcentagem de qnts vezes cada valor aparece\n",
    "\n",
    "display(tab[\"cancelou\"].value_counts(normalize=True).map(\"{:.1%}\".format))"
   ]
  },
  {
   "cell_type": "code",
   "execution_count": null,
   "metadata": {},
   "outputs": [],
   "source": [
    "# Análise de contrato - que tipo de contrato é mais provavel de ser cancelado\n",
    "                      # ou seja, como impacta\n",
    "\n",
    "import plotly.express as px # .express - graficos do plotly\n",
    "\n",
    "grafico = px.histogram(tab, x=\"duracao_contrato\") # passar a bd e a coluna\n",
    "grafico.show()\n",
    "\n",
    "# separar os cancelados por cor\n",
    "grafico = px.histogram(tab, x=\"duracao_contrato\", color=\"cancelou\")\n",
    "grafico.show()"
   ]
  },
  {
   "cell_type": "code",
   "execution_count": null,
   "metadata": {},
   "outputs": [],
   "source": [
    "# Gerar gráficos para cada coluna da tabela (visualizar o que implica no problema para pensar em solucoes)\n",
    "for coluna in tab.columns:\n",
    "    grafico = px.histogram(tab, x=coluna, color=\"cancelou\")\n",
    "    grafico.show()"
   ]
  },
  {
   "cell_type": "code",
   "execution_count": null,
   "metadata": {},
   "outputs": [],
   "source": [
    "\n",
    "# Possibilitando entender como solucionar os problemas ira diminuir o problema (cancelamentos)\n",
    "filtro = tab[\"ligacoes_callcenter\"]<=4 # nome da coluna ou condicoes\n",
    "tab = tab[filtro]\n",
    "display(tab[\"cancelou\"].value_counts(normalize=True))\n",
    "\n",
    "filtro = tab[\"dias_atraso\"]<=20 # nome da coluna ou condicoes\n",
    "tab = tab[filtro]\n",
    "display(tab[\"cancelou\"].value_counts(normalize=True))\n",
    "\n",
    "filtro = tab[\"duracao_contrato\"]!=\"Monthly\" # nome da coluna ou condicoes\n",
    "tab = tab[filtro]\n",
    "display(tab[\"cancelou\"].value_counts(normalize=True))"
   ]
  }
 ],
 "metadata": {
  "kernelspec": {
   "display_name": "base",
   "language": "python",
   "name": "python3"
  },
  "language_info": {
   "codemirror_mode": {
    "name": "ipython",
    "version": 3
   },
   "file_extension": ".py",
   "mimetype": "text/x-python",
   "name": "python",
   "nbconvert_exporter": "python",
   "pygments_lexer": "ipython3",
   "version": "3.12.4"
  },
  "orig_nbformat": 4
 },
 "nbformat": 4,
 "nbformat_minor": 2
}
